{
 "cells": [
  {
   "cell_type": "markdown",
   "metadata": {},
   "source": [
    "## Question 1\n",
    "Link--> https://www.hackerrank.com/challenges/s10-binomial-distribution-1/problem"
   ]
  },
  {
   "cell_type": "markdown",
   "metadata": {},
   "source": [
    "### Solution "
   ]
  },
  {
   "cell_type": "code",
   "execution_count": 3,
   "metadata": {},
   "outputs": [
    {
     "name": "stdout",
     "output_type": "stream",
     "text": [
      "1.09 1\n",
      "0.696\n"
     ]
    }
   ],
   "source": [
    "def fact(n):\n",
    "    return 1 if n == 0 else n*fact(n-1)\n",
    "\n",
    "def comb(n, x):\n",
    "    return fact(n) / (fact(x) * fact(n-x))\n",
    "\n",
    "def b(x, n, p):\n",
    "    return comb(n, x) * p**x * (1-p)**(n-x)\n",
    "\n",
    "l, r = list(map(float, input().split(\" \")))\n",
    "odds = l / r\n",
    "print(round(sum([b(i, 6, odds / (1 + odds)) for i in range(3, 7)]), 3))"
   ]
  },
  {
   "cell_type": "markdown",
   "metadata": {},
   "source": [
    "## Question 2\n",
    "Link--> https://www.hackerrank.com/challenges/s10-binomial-distribution-2/problem"
   ]
  },
  {
   "cell_type": "markdown",
   "metadata": {},
   "source": [
    "### Solution "
   ]
  },
  {
   "cell_type": "code",
   "execution_count": 5,
   "metadata": {},
   "outputs": [
    {
     "name": "stdout",
     "output_type": "stream",
     "text": [
      "0.891\n",
      "0.342\n"
     ]
    }
   ],
   "source": [
    "import math\n",
    "\n",
    "\n",
    "p = 0.12\n",
    "ans1 = 0\n",
    "for i in range(0, 3):\n",
    "    ans1 += math.factorial(10)/math.factorial(i)/math.factorial(10-i) * p**i * (1-p)**(10-i)\n",
    "    if i == 1:\n",
    "        ans2 = 1 - ans1\n",
    "\n",
    "print(round(ans1, 3))\n",
    "print(round(ans2, 3))"
   ]
  },
  {
   "cell_type": "markdown",
   "metadata": {},
   "source": [
    "## Question 3\n",
    "Link--> https://www.hackerrank.com/challenges/s10-normal-distribution-1"
   ]
  },
  {
   "cell_type": "markdown",
   "metadata": {},
   "source": [
    "### Solution "
   ]
  },
  {
   "cell_type": "code",
   "execution_count": 6,
   "metadata": {},
   "outputs": [
    {
     "name": "stdout",
     "output_type": "stream",
     "text": [
      "0.401\n",
      "0.341\n"
     ]
    }
   ],
   "source": [
    "import math\n",
    "\n",
    "\n",
    "def cdf(x, mean, std):\n",
    "    return 1/2*(1+math.erf((x-mean) / std / 2**(1/2)))\n",
    "\n",
    "\n",
    "mean = 20\n",
    "std = 2\n",
    "\n",
    "# Less than 19.5 hours\n",
    "print(round(cdf(19.5, mean, std), 3))\n",
    "# Between 20 and 22 hours?\n",
    "print(round(cdf(22, mean, std) - cdf(20, mean, std), 3))"
   ]
  },
  {
   "cell_type": "markdown",
   "metadata": {},
   "source": [
    "## Question 4\n",
    "Link--> https://www.hackerrank.com/challenges/s10-normal-distribution-2"
   ]
  },
  {
   "cell_type": "markdown",
   "metadata": {},
   "source": [
    "### Solution "
   ]
  },
  {
   "cell_type": "code",
   "execution_count": 7,
   "metadata": {},
   "outputs": [
    {
     "name": "stdout",
     "output_type": "stream",
     "text": [
      "15.87\n",
      "84.13\n",
      "15.87\n"
     ]
    }
   ],
   "source": [
    "import math\n",
    "mean, std = 70, 10\n",
    "cdf = lambda x: 0.5 * (1 + math.erf((x - mean) / (std * (2 ** 0.5))))\n",
    "\n",
    "\n",
    "print(round((1-cdf(80))*100,2))\n",
    "print(round((1-cdf(60))*100,2))\n",
    "print(round((cdf(60))*100,2))"
   ]
  },
  {
   "cell_type": "markdown",
   "metadata": {},
   "source": [
    "## Question 5\n",
    "Link--> https://www.hackerrank.com/challenges/s10-the-central-limit-theorem-1"
   ]
  },
  {
   "cell_type": "markdown",
   "metadata": {},
   "source": [
    "### Solution "
   ]
  },
  {
   "cell_type": "code",
   "execution_count": 8,
   "metadata": {},
   "outputs": [
    {
     "name": "stdout",
     "output_type": "stream",
     "text": [
      "0.0098\n"
     ]
    }
   ],
   "source": [
    "\n",
    "import math\n",
    "\n",
    "\n",
    "def cdf(x, mean, std):\n",
    "    return 1/2*(1+math.erf((x-mean) / std / 2**(1/2)))\n",
    "\n",
    "\n",
    "# inputs\n",
    "mean = 205\n",
    "std = 15\n",
    "n = 49\n",
    "target = 9800\n",
    "\n",
    "# characteristics of sum\n",
    "mean_s = n * mean\n",
    "std_s = std * n**(1/2)\n",
    "\n",
    "# Find the probability that sum <= 9800\n",
    "print(round(cdf(target, mean_s, std_s), 4))"
   ]
  },
  {
   "cell_type": "markdown",
   "metadata": {},
   "source": [
    "## Question 6\n",
    "Link--> https://www.hackerrank.com/challenges/s10-the-central-limit-theorem-2"
   ]
  },
  {
   "cell_type": "markdown",
   "metadata": {},
   "source": [
    "### Solution "
   ]
  },
  {
   "cell_type": "code",
   "execution_count": 9,
   "metadata": {},
   "outputs": [
    {
     "name": "stdout",
     "output_type": "stream",
     "text": [
      "0.6915\n"
     ]
    }
   ],
   "source": [
    "import math\n",
    "\n",
    "\n",
    "def cdf(x, mean, std):\n",
    "    return 1/2*(1+math.erf((x-mean) / std / 2**(1/2)))\n",
    "\n",
    "# inputs\n",
    "mean = 2.4\n",
    "std = 2\n",
    "n = 100\n",
    "target = 250\n",
    "\n",
    "# characteristics of sum\n",
    "mean_s = n * mean\n",
    "std_s = std * n**(1/2)\n",
    "\n",
    "# Find the probability that sum <= 250\n",
    "print(round(cdf(target, mean_s, std_s), 4))"
   ]
  },
  {
   "cell_type": "markdown",
   "metadata": {},
   "source": [
    "## Question 7\n",
    "Link--> https://www.hackerrank.com/challenges/s10-the-central-limit-theorem-3"
   ]
  },
  {
   "cell_type": "markdown",
   "metadata": {},
   "source": [
    "### Solution"
   ]
  },
  {
   "cell_type": "code",
   "execution_count": 10,
   "metadata": {},
   "outputs": [
    {
     "name": "stdout",
     "output_type": "stream",
     "text": [
      "484.32\n",
      "515.68\n"
     ]
    }
   ],
   "source": [
    "mean = 500\n",
    "std = 80\n",
    "n = 100\n",
    "z = 1.96\n",
    "\n",
    "# characteristics of sample\n",
    "mean = mean\n",
    "std = std / n**(1/2)\n",
    "\n",
    "# Find the 95% interval\n",
    "print(round(mean - std * z, 2))\n",
    "print(round(mean + std * z, 2))"
   ]
  },
  {
   "cell_type": "markdown",
   "metadata": {},
   "source": [
    "## Question 8\n",
    "Link--> https://www.hackerrank.com/challenges/s10-pearson-correlation-coefficient"
   ]
  },
  {
   "cell_type": "markdown",
   "metadata": {},
   "source": [
    "### Solution "
   ]
  },
  {
   "cell_type": "code",
   "execution_count": 12,
   "metadata": {},
   "outputs": [
    {
     "name": "stdout",
     "output_type": "stream",
     "text": [
      "10\n",
      "1 2 3 4 5 6 7 8 9 0\n",
      "0 9 8 7 6 5 4 3 2 1 \n",
      "-0.03\n"
     ]
    }
   ],
   "source": [
    "N = int(input())\n",
    "X = list(map(float,input().strip().split()))\n",
    "Y = list(map(float,input().strip().split()))\n",
    "\n",
    "mu_x = sum(X) / N\n",
    "mu_y = sum(Y) / N\n",
    "\n",
    "stdv_x = (sum([(i - mu_x)**2 for i in X]) / N)**0.5\n",
    "stdv_y = (sum([(i - mu_y)**2 for i in Y]) / N)**0.5\n",
    "\n",
    "\n",
    "covariance = sum([(X[i] - mu_x) * (Y[i] -mu_y) for i in range(N)])\n",
    "\n",
    "correlation_coefficient = covariance / (N * stdv_x * stdv_y)\n",
    "\n",
    "print(round(correlation_coefficient,3))"
   ]
  },
  {
   "cell_type": "markdown",
   "metadata": {},
   "source": [
    "## Question 9 \n",
    "Link--> https://www.hackerrank.com/challenges/s10-least-square-regression-line"
   ]
  },
  {
   "cell_type": "markdown",
   "metadata": {},
   "source": [
    "### Solution "
   ]
  },
  {
   "cell_type": "code",
   "execution_count": 13,
   "metadata": {},
   "outputs": [
    {
     "name": "stdout",
     "output_type": "stream",
     "text": [
      "66 45\n",
      "33 6\n",
      "7 90\n",
      "33 6 \n",
      "20 55\n",
      "7.189\n"
     ]
    }
   ],
   "source": [
    "n = 5\n",
    "xy = [map(int, input().split()) for _ in range(n)]\n",
    "sx, sy, sx2, sxy = map(sum, zip(*[(x, y, x**2, x * y) for x, y in xy]))\n",
    "b = (n * sxy - sx * sy) / (n * sx2 - sx**2)\n",
    "a = (sy / n) - b * (sx / n)\n",
    "print('{:.3f}'.format(a + b * 80))"
   ]
  },
  {
   "cell_type": "markdown",
   "metadata": {},
   "source": [
    "## Question 10\n",
    "Link--> https://www.hackerrank.com/challenges/s10-multiple-linear-regression/problem"
   ]
  },
  {
   "cell_type": "markdown",
   "metadata": {},
   "source": [
    "### Solution"
   ]
  },
  {
   "cell_type": "code",
   "execution_count": 16,
   "metadata": {},
   "outputs": [
    {
     "name": "stdout",
     "output_type": "stream",
     "text": [
      "2 7 \n",
      "0.18 0.89 109.85 \n",
      "1.0 0.26 155.72 \n",
      "0.92 0.11 137.66 \n",
      "0.07 0.37 76.17 \n",
      "0.85 0.16 139.75 \n",
      "0.99 0.41 162.6 \n",
      "0.87 0.47 151.77 \n",
      "4\n",
      "\n",
      "\n",
      "\n",
      "\n"
     ]
    },
    {
     "ename": "ValueError",
     "evalue": "could not convert string to float: ''",
     "output_type": "error",
     "traceback": [
      "\u001b[1;31m---------------------------------------------------------------------------\u001b[0m",
      "\u001b[1;31mValueError\u001b[0m                                Traceback (most recent call last)",
      "\u001b[1;32m<ipython-input-16-e172ef7f3960>\u001b[0m in \u001b[0;36m<module>\u001b[1;34m\u001b[0m\n\u001b[0;32m     13\u001b[0m \u001b[0mX\u001b[0m \u001b[1;33m=\u001b[0m \u001b[0mnp\u001b[0m\u001b[1;33m.\u001b[0m\u001b[0marray\u001b[0m\u001b[1;33m(\u001b[0m\u001b[0mX\u001b[0m\u001b[1;33m,\u001b[0m\u001b[0mfloat\u001b[0m\u001b[1;33m)\u001b[0m\u001b[1;33m\u001b[0m\u001b[1;33m\u001b[0m\u001b[0m\n\u001b[0;32m     14\u001b[0m \u001b[0mY\u001b[0m \u001b[1;33m=\u001b[0m \u001b[0mnp\u001b[0m\u001b[1;33m.\u001b[0m\u001b[0marray\u001b[0m\u001b[1;33m(\u001b[0m\u001b[0mY\u001b[0m\u001b[1;33m,\u001b[0m\u001b[0mfloat\u001b[0m\u001b[1;33m)\u001b[0m\u001b[1;33m\u001b[0m\u001b[1;33m\u001b[0m\u001b[0m\n\u001b[1;32m---> 15\u001b[1;33m \u001b[0mX_new\u001b[0m \u001b[1;33m=\u001b[0m \u001b[0mnp\u001b[0m\u001b[1;33m.\u001b[0m\u001b[0marray\u001b[0m\u001b[1;33m(\u001b[0m\u001b[0mX_new\u001b[0m\u001b[1;33m,\u001b[0m\u001b[0mfloat\u001b[0m\u001b[1;33m)\u001b[0m\u001b[1;33m\u001b[0m\u001b[1;33m\u001b[0m\u001b[0m\n\u001b[0m\u001b[0;32m     16\u001b[0m \u001b[1;33m\u001b[0m\u001b[0m\n\u001b[0;32m     17\u001b[0m \u001b[1;31m#center\u001b[0m\u001b[1;33m\u001b[0m\u001b[1;33m\u001b[0m\u001b[1;33m\u001b[0m\u001b[0m\n",
      "\u001b[1;31mValueError\u001b[0m: could not convert string to float: ''"
     ]
    }
   ],
   "source": [
    "import numpy as np\n",
    "m,n = [int(i) for i in input().strip().split(' ')]\n",
    "X = []\n",
    "Y = []\n",
    "for i in range(n):\n",
    "    data = input().strip().split(' ')\n",
    "    X.append(data[:m])\n",
    "    Y.append(data[m:])\n",
    "q = int(input().strip())\n",
    "X_new = []\n",
    "for x in range(q):\n",
    "    X_new.append(input().strip().split(' '))\n",
    "X = np.array(X,float)\n",
    "Y = np.array(Y,float)\n",
    "X_new = np.array(X_new,float)\n",
    "\n",
    "#center\n",
    "X_R = X-np.mean(X,axis=0)\n",
    "Y_R = Y-np.mean(Y)\n",
    "\n",
    "#calculate beta\n",
    "beta = np.dot(np.linalg.inv(np.dot(X_R.T,X_R)),np.dot(X_R.T,Y_R))\n",
    "\n",
    "#predict\n",
    "X_new_R = X_new-np.mean(X,axis=0)\n",
    "Y_new_R = np.dot(X_new_R,beta)\n",
    "Y_new = Y_new_R + np.mean(Y)\n",
    "\n",
    "#print\n",
    "for i in Y_new:\n",
    "    print(round(float(i),2))"
   ]
  },
  {
   "cell_type": "code",
   "execution_count": null,
   "metadata": {},
   "outputs": [],
   "source": []
  }
 ],
 "metadata": {
  "kernelspec": {
   "display_name": "Python 3",
   "language": "python",
   "name": "python3"
  },
  "language_info": {
   "codemirror_mode": {
    "name": "ipython",
    "version": 3
   },
   "file_extension": ".py",
   "mimetype": "text/x-python",
   "name": "python",
   "nbconvert_exporter": "python",
   "pygments_lexer": "ipython3",
   "version": "3.8.5"
  }
 },
 "nbformat": 4,
 "nbformat_minor": 4
}
