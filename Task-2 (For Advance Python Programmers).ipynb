{
 "cells": [
  {
   "cell_type": "markdown",
   "metadata": {},
   "source": [
    "## Question 1\n",
    "Link--> https://leetcode.com/problems/defanging-an-ip-address/"
   ]
  },
  {
   "cell_type": "markdown",
   "metadata": {},
   "source": [
    "### Solution"
   ]
  },
  {
   "cell_type": "code",
   "execution_count": 1,
   "metadata": {},
   "outputs": [],
   "source": [
    "class Solution:\n",
    "    def defangIPaddr(self, address):\n",
    "        ans=address.replace(\".\",\"[.]\")\n",
    "        return ans"
   ]
  },
  {
   "cell_type": "markdown",
   "metadata": {},
   "source": [
    "## Question 2\n",
    "Link--> https://leetcode.com/problems/find-numbers-with-even-number-of-digits/"
   ]
  },
  {
   "cell_type": "markdown",
   "metadata": {},
   "source": [
    "## Solution"
   ]
  },
  {
   "cell_type": "code",
   "execution_count": 2,
   "metadata": {},
   "outputs": [],
   "source": [
    "class Solution:\n",
    "    def findNumbers(self, nums):\n",
    "         return sum([len(str(x))%2==0 for x in nums])"
   ]
  },
  {
   "cell_type": "markdown",
   "metadata": {},
   "source": [
    "## Question 3 \n",
    "Link--> https://leetcode.com/problems/number-of-good-pairs/"
   ]
  },
  {
   "cell_type": "markdown",
   "metadata": {},
   "source": [
    "### Solution "
   ]
  },
  {
   "cell_type": "code",
   "execution_count": 3,
   "metadata": {},
   "outputs": [],
   "source": [
    "class Solution:\n",
    "    def numIdenticalPairs(self, nums):\n",
    "        f={}\n",
    "        ans=0\n",
    "        for num in nums:\n",
    "            if not num in f:\n",
    "                f[num]=0\n",
    "            f[num]+=1\n",
    "        \n",
    "        for num in f:\n",
    "            n=f[num]\n",
    "            ans+=(n*(n-1)//2)\n",
    "            \n",
    "        return ans\n",
    "        "
   ]
  },
  {
   "cell_type": "markdown",
   "metadata": {},
   "source": [
    "## Question 4 \n",
    "Link--> https://leetcode.com/problems/how-many-numbers-are-smaller-than-the-current-number/"
   ]
  },
  {
   "cell_type": "markdown",
   "metadata": {},
   "source": [
    "### Solution "
   ]
  },
  {
   "cell_type": "code",
   "execution_count": 4,
   "metadata": {},
   "outputs": [],
   "source": [
    "class Solution:\n",
    "    def smallerNumbersThanCurrent(self, nums):\n",
    "        l=len(nums)\n",
    "        ans=[]\n",
    "        count=0\n",
    "        for i in nums:\n",
    "            for j in range(l):\n",
    "               if (nums[j]-i)<0:\n",
    "                   count+=1\n",
    "            ans.append(count)\n",
    "            count=0\n",
    "        return ans"
   ]
  },
  {
   "cell_type": "markdown",
   "metadata": {},
   "source": [
    "## Question 5\n",
    "Link--> https://leetcode.com/problems/subtract-the-product-and-sum-of-digits-of-an-integer/"
   ]
  },
  {
   "cell_type": "markdown",
   "metadata": {},
   "source": [
    "## Solution"
   ]
  },
  {
   "cell_type": "code",
   "execution_count": 5,
   "metadata": {},
   "outputs": [],
   "source": [
    "class Solution:\n",
    "    def subtractProductAndSum(self, n: int) -> int:\n",
    "        sum, product = 0, 1\n",
    "        while n:\n",
    "          digit = n % 10\n",
    "          sum += digit\n",
    "          product *= digit\n",
    "          n //= 10\n",
    "        return product - sum"
   ]
  },
  {
   "cell_type": "markdown",
   "metadata": {},
   "source": [
    "## Question 6 \n",
    "Link--> https://leetcode.com/problems/xor-operation-in-an-array/"
   ]
  },
  {
   "cell_type": "code",
   "execution_count": 6,
   "metadata": {},
   "outputs": [],
   "source": [
    "class Solution:\n",
    "    def xorOperation(self, n, start):\n",
    "        ans=0\n",
    "        for i in range(n):\n",
    "            ans^=(start+i*2)\n",
    "        \n",
    "        return ans"
   ]
  },
  {
   "cell_type": "code",
   "execution_count": null,
   "metadata": {},
   "outputs": [],
   "source": []
  }
 ],
 "metadata": {
  "kernelspec": {
   "display_name": "Python 3",
   "language": "python",
   "name": "python3"
  },
  "language_info": {
   "codemirror_mode": {
    "name": "ipython",
    "version": 3
   },
   "file_extension": ".py",
   "mimetype": "text/x-python",
   "name": "python",
   "nbconvert_exporter": "python",
   "pygments_lexer": "ipython3",
   "version": "3.8.5"
  }
 },
 "nbformat": 4,
 "nbformat_minor": 4
}
